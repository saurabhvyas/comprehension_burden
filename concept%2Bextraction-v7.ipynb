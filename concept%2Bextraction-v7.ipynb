{
 "cells": [
  {
   "cell_type": "code",
   "execution_count": 12,
   "metadata": {
    "collapsed": true,
    "deletable": true,
    "editable": true
   },
   "outputs": [],
   "source": [
    "import nltk\n",
    "from nltk import pos_tag, word_tokenize\n",
    "from nltk.corpus import stopwords\n",
    "from nltk.tokenize import wordpunct_tokenize\n",
    "\n",
    "#import sys  \n",
    "\n",
    "#reload(sys)  \n",
    "#sys.setdefaultencoding('utf8')\n"
   ]
  },
  {
   "cell_type": "code",
   "execution_count": 13,
   "metadata": {
    "collapsed": false,
    "deletable": true,
    "editable": true
   },
   "outputs": [],
   "source": [
    "stop_words = set(stopwords.words('english'))\n",
    "#stop_list = list(stop)\n",
    "stop_words.update(['.', ',', '\"', \"'\", '?', '!', ':', ';', '(', ')', '[', ']', '{', '}']) # remove it if you need punctuation \n"
   ]
  },
  {
   "cell_type": "code",
   "execution_count": 14,
   "metadata": {
    "collapsed": true,
    "deletable": true,
    "editable": true
   },
   "outputs": [],
   "source": [
    "text2 = \"\"\" Early computer systems allowed only one program to be executed at a\n",
    "time. This program had complete control of the system and had access to\n",
    "all the system's resources. In contrast, current-day computer systems allow\n",
    "multiple programs to be loaded into memory and executed concurrently.\n",
    "This evolution required firmer control and more compartmentalization of the\n",
    "various programs; and these needs resulted in the notion of a process/ which is\n",
    "a program in execution. A process is the unit of work in a modern time-sharing\n",
    "system.  \"\"\"\n"
   ]
  },
  {
   "cell_type": "code",
   "execution_count": 15,
   "metadata": {
    "collapsed": true,
    "deletable": true,
    "editable": true
   },
   "outputs": [],
   "source": [
    "text = '''We have looked at the operating system's role from the views of the user\n",
    "and of the system. How, though, can we define what an operating system\n",
    "is? In general, we have no completely adequate definition of an operating\n",
    "system. Operating systems exist because they offer a reasonable way to solve\n",
    "the problem of creating a usable computing system. The fundamental goal\n",
    "of computer systems is to execute user programs and to make solving user\n",
    "problems easier. Toward this goal, computer hardware is constructed. Since\n",
    "bare hardware alone is not particularly easy to use, application programs are developed. These programs require certain common operations, such as those\n",
    "controlling the I/O devices. The common functions of controlling and allocating\n",
    "resources are then brought together into one piece of software: the operating\n",
    "system.\n",
    "In addition, we have no universally accepted definition of what is part of the\n",
    "operating system. A simple viewpoint is that it includes everything a vendor\n",
    "ships when you order \"the operating system.\" The features included, however,\n",
    "vary greatly across systems. Some systems take up less than 1 megabyte of\n",
    "space and lack even a full-screen editor, whereas others require gigabytes of\n",
    "space and are entirely based on graphical windowing systems. (A kilobyte, or\n",
    "KB, is 1,024 bytes; a megabyte, or MB, is l,024 2 bytes; and a gigabyte, or GB, is\n",
    "l,024 3 bytes. Computer manufacturers often round off these numbers and say\n",
    "that a megabyte is 1 million bytes and a gigabyte is 1 billion bytes.) A more\n",
    "common definition is that the operating system is the one program running\n",
    "at all times on the computer (usually called the kernel), with all else being\n",
    "systems programs and application programs. This last definition is the one\n",
    "that we generally follow.\n",
    "The matter of what constitutes an operating system has become increas-\n",
    "ingly important. In 1998, the United States Department of Justice filed suit\n",
    "against Microsoft, in essence claiming that Microsoft included too much func-\n",
    "tionality in its operating systems and thus prevented application vendors from\n",
    "competing. For example, a web browser was an integral part of the operating\n",
    "system. As a result, Microsoft was found guilty of using its operating system\n",
    "monopoly to limit competition.'''\n"
   ]
  },
  {
   "cell_type": "code",
   "execution_count": 16,
   "metadata": {
    "collapsed": true,
    "deletable": true,
    "editable": true
   },
   "outputs": [],
   "source": [
    "#text=text.decode('utf-8')"
   ]
  },
  {
   "cell_type": "code",
   "execution_count": 23,
   "metadata": {
    "collapsed": false,
    "deletable": true,
    "editable": true
   },
   "outputs": [
    {
     "name": "stdout",
     "output_type": "stream",
     "text": [
      "looked operating system role views user system though define operating system general completely adequate definition operating system operating systems exist offer reasonable way solve problem creating usable computing system fundamental goal computer systems execute user programs make solving user problems easier toward goal computer hardware constructed since bare hardware alone particularly easy use application programs developed programs require certain common operations controlling / devices common functions controlling allocating resources brought together one piece software operating system addition universally accepted definition part operating system simple viewpoint includes everything vendor ships order operating system .\" features included however vary greatly across systems systems take less 1 megabyte space lack even full - screen editor whereas others require gigabytes space entirely based graphical windowing systems kilobyte kb 1 024 bytes megabyte mb l 024 2 bytes gigabyte gb l 024 3 bytes computer manufacturers often round numbers say megabyte 1 million bytes gigabyte 1 billion bytes .) common definition operating system one program running times computer usually called kernel ), else systems programs application programs last definition one generally follow matter constitutes operating system become increas - ingly important 1998 united states department justice filed suit microsoft essence claiming microsoft included much func - tionality operating systems thus prevented application vendors competing example web browser integral part operating system result microsoft found guilty using operating system monopoly limit competition\n"
     ]
    }
   ],
   "source": [
    "temp_list = [i.lower() for i in wordpunct_tokenize(text) if i.lower() not in stop_words]\n",
    "refined_text = \" \".join(str(x) for x in temp_list)\n",
    "print(refined_text)"
   ]
  },
  {
   "cell_type": "code",
   "execution_count": null,
   "metadata": {
    "collapsed": false,
    "deletable": true,
    "editable": true
   },
   "outputs": [],
   "source": []
  },
  {
   "cell_type": "code",
   "execution_count": 24,
   "metadata": {
    "collapsed": false,
    "deletable": true,
    "editable": true
   },
   "outputs": [],
   "source": [
    "result2 = pos_tag(word_tokenize(refined_text))\n"
   ]
  },
  {
   "cell_type": "code",
   "execution_count": 25,
   "metadata": {
    "collapsed": false,
    "deletable": true,
    "editable": true
   },
   "outputs": [
    {
     "data": {
      "text/plain": [
       "[('looked', 'VBD'),\n",
       " ('operating', 'NN'),\n",
       " ('system', 'NN'),\n",
       " ('role', 'NN'),\n",
       " ('views', 'NNS'),\n",
       " ('user', 'JJ'),\n",
       " ('system', 'NN'),\n",
       " ('though', 'IN'),\n",
       " ('define', 'NN'),\n",
       " ('operating', 'NN'),\n",
       " ('system', 'NN'),\n",
       " ('general', 'JJ'),\n",
       " ('completely', 'RB'),\n",
       " ('adequate', 'JJ'),\n",
       " ('definition', 'NN'),\n",
       " ('operating', 'VBG'),\n",
       " ('system', 'NN'),\n",
       " ('operating', 'VBG'),\n",
       " ('systems', 'NNS'),\n",
       " ('exist', 'VBP'),\n",
       " ('offer', 'VBP'),\n",
       " ('reasonable', 'JJ'),\n",
       " ('way', 'NN'),\n",
       " ('solve', 'NN'),\n",
       " ('problem', 'NN'),\n",
       " ('creating', 'VBG'),\n",
       " ('usable', 'JJ'),\n",
       " ('computing', 'VBG'),\n",
       " ('system', 'NN'),\n",
       " ('fundamental', 'JJ'),\n",
       " ('goal', 'NN'),\n",
       " ('computer', 'NN'),\n",
       " ('systems', 'NNS'),\n",
       " ('execute', 'VBP'),\n",
       " ('user', 'JJ'),\n",
       " ('programs', 'NNS'),\n",
       " ('make', 'VBP'),\n",
       " ('solving', 'VBG'),\n",
       " ('user', 'NN'),\n",
       " ('problems', 'NNS'),\n",
       " ('easier', 'RBR'),\n",
       " ('toward', 'IN'),\n",
       " ('goal', 'NN'),\n",
       " ('computer', 'NN'),\n",
       " ('hardware', 'NN'),\n",
       " ('constructed', 'VBN'),\n",
       " ('since', 'IN'),\n",
       " ('bare', 'NN'),\n",
       " ('hardware', 'NN'),\n",
       " ('alone', 'RB'),\n",
       " ('particularly', 'RB'),\n",
       " ('easy', 'JJ'),\n",
       " ('use', 'NN'),\n",
       " ('application', 'NN'),\n",
       " ('programs', 'NNS'),\n",
       " ('developed', 'VBD'),\n",
       " ('programs', 'NNS'),\n",
       " ('require', 'VBP'),\n",
       " ('certain', 'JJ'),\n",
       " ('common', 'JJ'),\n",
       " ('operations', 'NNS'),\n",
       " ('controlling', 'VBG'),\n",
       " ('/', 'JJ'),\n",
       " ('devices', 'NNS'),\n",
       " ('common', 'JJ'),\n",
       " ('functions', 'NNS'),\n",
       " ('controlling', 'VBG'),\n",
       " ('allocating', 'VBG'),\n",
       " ('resources', 'NNS'),\n",
       " ('brought', 'VBN'),\n",
       " ('together', 'RB'),\n",
       " ('one', 'CD'),\n",
       " ('piece', 'NN'),\n",
       " ('software', 'NN'),\n",
       " ('operating', 'VBG'),\n",
       " ('system', 'NN'),\n",
       " ('addition', 'NN'),\n",
       " ('universally', 'RB'),\n",
       " ('accepted', 'VBN'),\n",
       " ('definition', 'NN'),\n",
       " ('part', 'NN'),\n",
       " ('operating', 'VBG'),\n",
       " ('system', 'NN'),\n",
       " ('simple', 'JJ'),\n",
       " ('viewpoint', 'NN'),\n",
       " ('includes', 'VBZ'),\n",
       " ('everything', 'NN'),\n",
       " ('vendor', 'NN'),\n",
       " ('ships', 'NNS'),\n",
       " ('order', 'NN'),\n",
       " ('operating', 'VBG'),\n",
       " ('system', 'NN'),\n",
       " ('.', '.'),\n",
       " (\"''\", \"''\"),\n",
       " ('features', 'NNS'),\n",
       " ('included', 'VBD'),\n",
       " ('however', 'RB'),\n",
       " ('vary', 'JJ'),\n",
       " ('greatly', 'RB'),\n",
       " ('across', 'IN'),\n",
       " ('systems', 'NNS'),\n",
       " ('systems', 'NNS'),\n",
       " ('take', 'VBP'),\n",
       " ('less', 'JJR'),\n",
       " ('1', 'CD'),\n",
       " ('megabyte', 'NN'),\n",
       " ('space', 'NN'),\n",
       " ('lack', 'NN'),\n",
       " ('even', 'RB'),\n",
       " ('full', 'JJ'),\n",
       " ('-', ':'),\n",
       " ('screen', 'NN'),\n",
       " ('editor', 'NN'),\n",
       " ('whereas', 'IN'),\n",
       " ('others', 'NNS'),\n",
       " ('require', 'VBP'),\n",
       " ('gigabytes', 'NNS'),\n",
       " ('space', 'NN'),\n",
       " ('entirely', 'RB'),\n",
       " ('based', 'VBN'),\n",
       " ('graphical', 'JJ'),\n",
       " ('windowing', 'VBG'),\n",
       " ('systems', 'NNS'),\n",
       " ('kilobyte', 'VBD'),\n",
       " ('kb', 'JJ'),\n",
       " ('1', 'CD'),\n",
       " ('024', 'CD'),\n",
       " ('bytes', 'NNS'),\n",
       " ('megabyte', 'JJ'),\n",
       " ('mb', 'NN'),\n",
       " ('l', 'VBD'),\n",
       " ('024', 'CD'),\n",
       " ('2', 'CD'),\n",
       " ('bytes', 'NNS'),\n",
       " ('gigabyte', 'JJ'),\n",
       " ('gb', 'NN'),\n",
       " ('l', 'VBD'),\n",
       " ('024', 'CD'),\n",
       " ('3', 'CD'),\n",
       " ('bytes', 'NNS'),\n",
       " ('computer', 'NN'),\n",
       " ('manufacturers', 'NNS'),\n",
       " ('often', 'RB'),\n",
       " ('round', 'JJ'),\n",
       " ('numbers', 'NNS'),\n",
       " ('say', 'VBP'),\n",
       " ('megabyte', '$'),\n",
       " ('1', 'CD'),\n",
       " ('million', 'CD'),\n",
       " ('bytes', 'NNS'),\n",
       " ('gigabyte', 'JJ'),\n",
       " ('1', 'CD'),\n",
       " ('billion', 'CD'),\n",
       " ('bytes', 'NNS'),\n",
       " ('.', '.'),\n",
       " (')', ')'),\n",
       " ('common', 'JJ'),\n",
       " ('definition', 'NN'),\n",
       " ('operating', 'VBG'),\n",
       " ('system', 'NN'),\n",
       " ('one', 'CD'),\n",
       " ('program', 'NN'),\n",
       " ('running', 'VBG'),\n",
       " ('times', 'NNS'),\n",
       " ('computer', 'NN'),\n",
       " ('usually', 'RB'),\n",
       " ('called', 'VBD'),\n",
       " ('kernel', 'NN'),\n",
       " (')', ')'),\n",
       " (',', ','),\n",
       " ('else', 'RB'),\n",
       " ('systems', 'NNS'),\n",
       " ('programs', 'NNS'),\n",
       " ('application', 'VBP'),\n",
       " ('programs', 'NNS'),\n",
       " ('last', 'JJ'),\n",
       " ('definition', 'NN'),\n",
       " ('one', 'CD'),\n",
       " ('generally', 'RB'),\n",
       " ('follow', 'VBP'),\n",
       " ('matter', 'NN'),\n",
       " ('constitutes', 'NNS'),\n",
       " ('operating', 'VBG'),\n",
       " ('system', 'NN'),\n",
       " ('become', 'VBN'),\n",
       " ('increas', 'JJ'),\n",
       " ('-', ':'),\n",
       " ('ingly', 'RB'),\n",
       " ('important', 'JJ'),\n",
       " ('1998', 'CD'),\n",
       " ('united', 'JJ'),\n",
       " ('states', 'NNS'),\n",
       " ('department', 'NN'),\n",
       " ('justice', 'NN'),\n",
       " ('filed', 'VBD'),\n",
       " ('suit', 'NN'),\n",
       " ('microsoft', 'JJ'),\n",
       " ('essence', 'NN'),\n",
       " ('claiming', 'VBG'),\n",
       " ('microsoft', 'RB'),\n",
       " ('included', 'VBN'),\n",
       " ('much', 'JJ'),\n",
       " ('func', 'SYM'),\n",
       " ('-', ':'),\n",
       " ('tionality', 'NN'),\n",
       " ('operating', 'VBG'),\n",
       " ('systems', 'NNS'),\n",
       " ('thus', 'RB'),\n",
       " ('prevented', 'VBN'),\n",
       " ('application', 'NN'),\n",
       " ('vendors', 'NNS'),\n",
       " ('competing', 'VBG'),\n",
       " ('example', 'NN'),\n",
       " ('web', 'NN'),\n",
       " ('browser', 'NN'),\n",
       " ('integral', 'JJ'),\n",
       " ('part', 'NN'),\n",
       " ('operating', 'VBG'),\n",
       " ('system', 'NN'),\n",
       " ('result', 'NN'),\n",
       " ('microsoft', 'RB'),\n",
       " ('found', 'VBD'),\n",
       " ('guilty', 'JJ'),\n",
       " ('using', 'VBG'),\n",
       " ('operating', 'NN'),\n",
       " ('system', 'NN'),\n",
       " ('monopoly', 'JJ'),\n",
       " ('limit', 'NN'),\n",
       " ('competition', 'NN')]"
      ]
     },
     "execution_count": 25,
     "metadata": {},
     "output_type": "execute_result"
    }
   ],
   "source": [
    "result2\n"
   ]
  },
  {
   "cell_type": "code",
   "execution_count": 26,
   "metadata": {
    "collapsed": false,
    "deletable": true,
    "editable": true
   },
   "outputs": [],
   "source": [
    "pattern = \"\"\"\n",
    "        P2: {<JJ>* <NN>+ }\n",
    "        \n",
    "        \n",
    "\n",
    "    \"\"\"\n",
    "parser = nltk.RegexpParser(pattern) \n",
    "result3 = parser.parse(result2)"
   ]
  },
  {
   "cell_type": "code",
   "execution_count": null,
   "metadata": {
    "collapsed": false,
    "deletable": true,
    "editable": true
   },
   "outputs": [],
   "source": []
  },
  {
   "cell_type": "code",
   "execution_count": null,
   "metadata": {
    "collapsed": false,
    "deletable": true,
    "editable": true
   },
   "outputs": [],
   "source": []
  },
  {
   "cell_type": "code",
   "execution_count": 27,
   "metadata": {
    "collapsed": false,
    "deletable": true,
    "editable": true
   },
   "outputs": [
    {
     "name": "stdout",
     "output_type": "stream",
     "text": [
      "(S\n",
      "  looked/VBD\n",
      "  (P2 operating/NN system/NN role/NN)\n",
      "  views/NNS\n",
      "  (P2 user/JJ system/NN)\n",
      "  though/IN\n",
      "  (P2 define/NN operating/NN system/NN)\n",
      "  general/JJ\n",
      "  completely/RB\n",
      "  (P2 adequate/JJ definition/NN)\n",
      "  operating/VBG\n",
      "  (P2 system/NN)\n",
      "  operating/VBG\n",
      "  systems/NNS\n",
      "  exist/VBP\n",
      "  offer/VBP\n",
      "  (P2 reasonable/JJ way/NN solve/NN problem/NN)\n",
      "  creating/VBG\n",
      "  usable/JJ\n",
      "  computing/VBG\n",
      "  (P2 system/NN)\n",
      "  (P2 fundamental/JJ goal/NN computer/NN)\n",
      "  systems/NNS\n",
      "  execute/VBP\n",
      "  user/JJ\n",
      "  programs/NNS\n",
      "  make/VBP\n",
      "  solving/VBG\n",
      "  (P2 user/NN)\n",
      "  problems/NNS\n",
      "  easier/RBR\n",
      "  toward/IN\n",
      "  (P2 goal/NN computer/NN hardware/NN)\n",
      "  constructed/VBN\n",
      "  since/IN\n",
      "  (P2 bare/NN hardware/NN)\n",
      "  alone/RB\n",
      "  particularly/RB\n",
      "  (P2 easy/JJ use/NN application/NN)\n",
      "  programs/NNS\n",
      "  developed/VBD\n",
      "  programs/NNS\n",
      "  require/VBP\n",
      "  certain/JJ\n",
      "  common/JJ\n",
      "  operations/NNS\n",
      "  controlling/VBG\n",
      "  //JJ\n",
      "  devices/NNS\n",
      "  common/JJ\n",
      "  functions/NNS\n",
      "  controlling/VBG\n",
      "  allocating/VBG\n",
      "  resources/NNS\n",
      "  brought/VBN\n",
      "  together/RB\n",
      "  one/CD\n",
      "  (P2 piece/NN software/NN)\n",
      "  operating/VBG\n",
      "  (P2 system/NN addition/NN)\n",
      "  universally/RB\n",
      "  accepted/VBN\n",
      "  (P2 definition/NN part/NN)\n",
      "  operating/VBG\n",
      "  (P2 system/NN)\n",
      "  (P2 simple/JJ viewpoint/NN)\n",
      "  includes/VBZ\n",
      "  (P2 everything/NN vendor/NN)\n",
      "  ships/NNS\n",
      "  (P2 order/NN)\n",
      "  operating/VBG\n",
      "  (P2 system/NN)\n",
      "  ./.\n",
      "  ''/''\n",
      "  features/NNS\n",
      "  included/VBD\n",
      "  however/RB\n",
      "  vary/JJ\n",
      "  greatly/RB\n",
      "  across/IN\n",
      "  systems/NNS\n",
      "  systems/NNS\n",
      "  take/VBP\n",
      "  less/JJR\n",
      "  1/CD\n",
      "  (P2 megabyte/NN space/NN lack/NN)\n",
      "  even/RB\n",
      "  full/JJ\n",
      "  -/:\n",
      "  (P2 screen/NN editor/NN)\n",
      "  whereas/IN\n",
      "  others/NNS\n",
      "  require/VBP\n",
      "  gigabytes/NNS\n",
      "  (P2 space/NN)\n",
      "  entirely/RB\n",
      "  based/VBN\n",
      "  graphical/JJ\n",
      "  windowing/VBG\n",
      "  systems/NNS\n",
      "  kilobyte/VBD\n",
      "  kb/JJ\n",
      "  1/CD\n",
      "  024/CD\n",
      "  bytes/NNS\n",
      "  (P2 megabyte/JJ mb/NN)\n",
      "  l/VBD\n",
      "  024/CD\n",
      "  2/CD\n",
      "  bytes/NNS\n",
      "  (P2 gigabyte/JJ gb/NN)\n",
      "  l/VBD\n",
      "  024/CD\n",
      "  3/CD\n",
      "  bytes/NNS\n",
      "  (P2 computer/NN)\n",
      "  manufacturers/NNS\n",
      "  often/RB\n",
      "  round/JJ\n",
      "  numbers/NNS\n",
      "  say/VBP\n",
      "  megabyte/$\n",
      "  1/CD\n",
      "  million/CD\n",
      "  bytes/NNS\n",
      "  gigabyte/JJ\n",
      "  1/CD\n",
      "  billion/CD\n",
      "  bytes/NNS\n",
      "  ./.\n",
      "  )/)\n",
      "  (P2 common/JJ definition/NN)\n",
      "  operating/VBG\n",
      "  (P2 system/NN)\n",
      "  one/CD\n",
      "  (P2 program/NN)\n",
      "  running/VBG\n",
      "  times/NNS\n",
      "  (P2 computer/NN)\n",
      "  usually/RB\n",
      "  called/VBD\n",
      "  (P2 kernel/NN)\n",
      "  )/)\n",
      "  ,/,\n",
      "  else/RB\n",
      "  systems/NNS\n",
      "  programs/NNS\n",
      "  application/VBP\n",
      "  programs/NNS\n",
      "  (P2 last/JJ definition/NN)\n",
      "  one/CD\n",
      "  generally/RB\n",
      "  follow/VBP\n",
      "  (P2 matter/NN)\n",
      "  constitutes/NNS\n",
      "  operating/VBG\n",
      "  (P2 system/NN)\n",
      "  become/VBN\n",
      "  increas/JJ\n",
      "  -/:\n",
      "  ingly/RB\n",
      "  important/JJ\n",
      "  1998/CD\n",
      "  united/JJ\n",
      "  states/NNS\n",
      "  (P2 department/NN justice/NN)\n",
      "  filed/VBD\n",
      "  (P2 suit/NN)\n",
      "  (P2 microsoft/JJ essence/NN)\n",
      "  claiming/VBG\n",
      "  microsoft/RB\n",
      "  included/VBN\n",
      "  much/JJ\n",
      "  func/SYM\n",
      "  -/:\n",
      "  (P2 tionality/NN)\n",
      "  operating/VBG\n",
      "  systems/NNS\n",
      "  thus/RB\n",
      "  prevented/VBN\n",
      "  (P2 application/NN)\n",
      "  vendors/NNS\n",
      "  competing/VBG\n",
      "  (P2 example/NN web/NN browser/NN)\n",
      "  (P2 integral/JJ part/NN)\n",
      "  operating/VBG\n",
      "  (P2 system/NN result/NN)\n",
      "  microsoft/RB\n",
      "  found/VBD\n",
      "  guilty/JJ\n",
      "  using/VBG\n",
      "  (P2 operating/NN system/NN)\n",
      "  (P2 monopoly/JJ limit/NN competition/NN))\n"
     ]
    }
   ],
   "source": [
    "print(result3)\n"
   ]
  },
  {
   "cell_type": "code",
   "execution_count": 28,
   "metadata": {
    "collapsed": false,
    "deletable": true,
    "editable": true
   },
   "outputs": [
    {
     "name": "stdout",
     "output_type": "stream",
     "text": [
      "(P2 operating/NN system/NN role/NN)\n",
      "(P2 user/JJ system/NN)\n",
      "(P2 define/NN operating/NN system/NN)\n",
      "(P2 adequate/JJ definition/NN)\n",
      "(P2 system/NN)\n",
      "(P2 reasonable/JJ way/NN solve/NN problem/NN)\n",
      "(P2 system/NN)\n",
      "(P2 fundamental/JJ goal/NN computer/NN)\n",
      "(P2 user/NN)\n",
      "(P2 goal/NN computer/NN hardware/NN)\n",
      "(P2 bare/NN hardware/NN)\n",
      "(P2 easy/JJ use/NN application/NN)\n",
      "(P2 piece/NN software/NN)\n",
      "(P2 system/NN addition/NN)\n",
      "(P2 definition/NN part/NN)\n",
      "(P2 system/NN)\n",
      "(P2 simple/JJ viewpoint/NN)\n",
      "(P2 everything/NN vendor/NN)\n",
      "(P2 order/NN)\n",
      "(P2 system/NN)\n",
      "(P2 megabyte/NN space/NN lack/NN)\n",
      "(P2 screen/NN editor/NN)\n",
      "(P2 space/NN)\n",
      "(P2 megabyte/JJ mb/NN)\n",
      "(P2 gigabyte/JJ gb/NN)\n",
      "(P2 computer/NN)\n",
      "(P2 common/JJ definition/NN)\n",
      "(P2 system/NN)\n",
      "(P2 program/NN)\n",
      "(P2 computer/NN)\n",
      "(P2 kernel/NN)\n",
      "(P2 last/JJ definition/NN)\n",
      "(P2 matter/NN)\n",
      "(P2 system/NN)\n",
      "(P2 department/NN justice/NN)\n",
      "(P2 suit/NN)\n",
      "(P2 microsoft/JJ essence/NN)\n",
      "(P2 tionality/NN)\n",
      "(P2 application/NN)\n",
      "(P2 example/NN web/NN browser/NN)\n",
      "(P2 integral/JJ part/NN)\n",
      "(P2 system/NN result/NN)\n",
      "(P2 operating/NN system/NN)\n",
      "(P2 monopoly/JJ limit/NN competition/NN)\n"
     ]
    }
   ],
   "source": [
    "for st in result3.subtrees(filter = lambda x: x.label() == \"P2\") :\n",
    " print(st)"
   ]
  },
  {
   "cell_type": "code",
   "execution_count": 29,
   "metadata": {
    "collapsed": true,
    "deletable": true,
    "editable": true
   },
   "outputs": [],
   "source": [
    "concepts = []\n",
    "\n",
    "for subtree in result3.subtrees(filter=lambda t: t.label() == 'P2'):\n",
    "    concepts.append(\" \".join([a for (a,b) in subtree.leaves()]))"
   ]
  },
  {
   "cell_type": "code",
   "execution_count": 30,
   "metadata": {
    "collapsed": false,
    "deletable": true,
    "editable": true,
    "scrolled": true
   },
   "outputs": [
    {
     "data": {
      "text/plain": [
       "['operating system role',\n",
       " 'user system',\n",
       " 'define operating system',\n",
       " 'adequate definition',\n",
       " 'system',\n",
       " 'reasonable way solve problem',\n",
       " 'system',\n",
       " 'fundamental goal computer',\n",
       " 'user',\n",
       " 'goal computer hardware',\n",
       " 'bare hardware',\n",
       " 'easy use application',\n",
       " 'piece software',\n",
       " 'system addition',\n",
       " 'definition part',\n",
       " 'system',\n",
       " 'simple viewpoint',\n",
       " 'everything vendor',\n",
       " 'order',\n",
       " 'system',\n",
       " 'megabyte space lack',\n",
       " 'screen editor',\n",
       " 'space',\n",
       " 'megabyte mb',\n",
       " 'gigabyte gb',\n",
       " 'computer',\n",
       " 'common definition',\n",
       " 'system',\n",
       " 'program',\n",
       " 'computer',\n",
       " 'kernel',\n",
       " 'last definition',\n",
       " 'matter',\n",
       " 'system',\n",
       " 'department justice',\n",
       " 'suit',\n",
       " 'microsoft essence',\n",
       " 'tionality',\n",
       " 'application',\n",
       " 'example web browser',\n",
       " 'integral part',\n",
       " 'system result',\n",
       " 'operating system',\n",
       " 'monopoly limit competition']"
      ]
     },
     "execution_count": 30,
     "metadata": {},
     "output_type": "execute_result"
    }
   ],
   "source": [
    "concepts\n"
   ]
  },
  {
   "cell_type": "code",
   "execution_count": 31,
   "metadata": {
    "collapsed": true,
    "deletable": true,
    "editable": true
   },
   "outputs": [],
   "source": [
    "concepts2=list(set(concepts))"
   ]
  },
  {
   "cell_type": "code",
   "execution_count": 32,
   "metadata": {
    "collapsed": false,
    "deletable": true,
    "editable": true
   },
   "outputs": [
    {
     "data": {
      "text/plain": [
       "['program',\n",
       " 'kernel',\n",
       " 'piece software',\n",
       " 'microsoft essence',\n",
       " 'computer',\n",
       " 'definition part',\n",
       " 'easy use application',\n",
       " 'system addition',\n",
       " 'everything vendor',\n",
       " 'bare hardware',\n",
       " 'operating system role',\n",
       " 'goal computer hardware',\n",
       " 'user system',\n",
       " 'monopoly limit competition',\n",
       " 'space',\n",
       " 'department justice',\n",
       " 'system',\n",
       " 'application',\n",
       " 'megabyte mb',\n",
       " 'common definition',\n",
       " 'integral part',\n",
       " 'suit',\n",
       " 'screen editor',\n",
       " 'reasonable way solve problem',\n",
       " 'example web browser',\n",
       " 'megabyte space lack',\n",
       " 'system result',\n",
       " 'user',\n",
       " 'operating system',\n",
       " 'gigabyte gb',\n",
       " 'tionality',\n",
       " 'define operating system',\n",
       " 'adequate definition',\n",
       " 'last definition',\n",
       " 'fundamental goal computer',\n",
       " 'simple viewpoint',\n",
       " 'matter',\n",
       " 'order']"
      ]
     },
     "execution_count": 32,
     "metadata": {},
     "output_type": "execute_result"
    }
   ],
   "source": [
    "concepts2"
   ]
  },
  {
   "cell_type": "code",
   "execution_count": 33,
   "metadata": {
    "collapsed": false,
    "deletable": true,
    "editable": true
   },
   "outputs": [
    {
     "data": {
      "text/plain": [
       "['program',\n",
       " 'kernel',\n",
       " 'piece software',\n",
       " 'microsoft essence',\n",
       " 'computer',\n",
       " 'definition part',\n",
       " 'easy use application',\n",
       " 'system addition',\n",
       " 'everything vendor',\n",
       " 'bare hardware',\n",
       " 'operating system role',\n",
       " 'goal computer hardware',\n",
       " 'user system',\n",
       " 'monopoly limit competition',\n",
       " 'space',\n",
       " 'department justice',\n",
       " 'system',\n",
       " 'application',\n",
       " 'megabyte mb',\n",
       " 'common definition',\n",
       " 'integral part',\n",
       " 'suit',\n",
       " 'screen editor',\n",
       " 'reasonable way solve problem',\n",
       " 'example web browser',\n",
       " 'megabyte space lack',\n",
       " 'system result',\n",
       " 'user',\n",
       " 'operating system',\n",
       " 'gigabyte gb',\n",
       " 'tionality',\n",
       " 'define operating system',\n",
       " 'adequate definition',\n",
       " 'last definition',\n",
       " 'fundamental goal computer',\n",
       " 'simple viewpoint',\n",
       " 'matter',\n",
       " 'order']"
      ]
     },
     "execution_count": 33,
     "metadata": {},
     "output_type": "execute_result"
    }
   ],
   "source": [
    "import re\n",
    "concepts4=[]\n",
    "for x in concepts2:\n",
    "    concepts4.append(re.sub('-',' ',x))\n",
    "concepts4\n",
    "\n",
    "# this removes - hyphens"
   ]
  },
  {
   "cell_type": "code",
   "execution_count": 34,
   "metadata": {
    "collapsed": false,
    "deletable": true,
    "editable": true
   },
   "outputs": [],
   "source": [
    "import requests\n"
   ]
  },
  {
   "cell_type": "code",
   "execution_count": 35,
   "metadata": {
    "collapsed": false,
    "deletable": true,
    "editable": true
   },
   "outputs": [],
   "source": [
    "url_unigram = 'https://westus.api.cognitive.microsoft.com/text/weblm/v1.0/calculateJointProbability?model=body&order=1';"
   ]
  },
  {
   "cell_type": "code",
   "execution_count": 36,
   "metadata": {
    "collapsed": false,
    "deletable": true,
    "editable": true
   },
   "outputs": [],
   "source": [
    "url_bigram = 'https://westus.api.cognitive.microsoft.com/text/weblm/v1.0/calculateJointProbability?model=body&order=2';"
   ]
  },
  {
   "cell_type": "code",
   "execution_count": 37,
   "metadata": {
    "collapsed": true,
    "deletable": true,
    "editable": true
   },
   "outputs": [],
   "source": [
    "url_trigram = 'https://westus.api.cognitive.microsoft.com/text/weblm/v1.0/calculateJointProbability?model=body&order=3';"
   ]
  },
  {
   "cell_type": "code",
   "execution_count": 38,
   "metadata": {
    "collapsed": true,
    "deletable": true,
    "editable": true
   },
   "outputs": [],
   "source": [
    "headers = { 'Ocp-Apim-Subscription-Key':'0578e9cc1c4d4b6596918c873a72d08a'};"
   ]
  },
  {
   "cell_type": "code",
   "execution_count": 39,
   "metadata": {
    "collapsed": true,
    "deletable": true,
    "editable": true
   },
   "outputs": [],
   "source": [
    "payload = {'key1': 'value1', 'key2': 'value2'}"
   ]
  },
  {
   "cell_type": "code",
   "execution_count": 40,
   "metadata": {
    "collapsed": true,
    "deletable": true,
    "editable": true
   },
   "outputs": [],
   "source": [
    "myjson = {\n",
    "\t\"queries\":\n",
    "\t[\n",
    "\t\t\"this\",\n",
    "\t\t\"cpu throughput\",\n",
    "\t\t\"this is\"\n",
    "\t]\n",
    "}"
   ]
  },
  {
   "cell_type": "code",
   "execution_count": 41,
   "metadata": {
    "collapsed": false,
    "deletable": true,
    "editable": true
   },
   "outputs": [],
   "source": [
    "def sort(list,type):\n",
    "   for item in list:\n",
    "    print len(item.split()) \n",
    "    \n",
    "    cutoff = -5;\n",
    "    \n",
    "    if type=='query':\n",
    "        cutoff = -6.5\n",
    "    url_unigram_q = 'https://westus.api.cognitive.microsoft.com/text/weblm/v1.0/calculateJointProbability?model=query&order=1';\n",
    "    url_bigram_q = 'https://westus.api.cognitive.microsoft.com/text/weblm/v1.0/calculateJointProbability?model=query&order=2';\n",
    "    url_trigram_q = 'https://westus.api.cognitive.microsoft.com/text/weblm/v1.0/calculateJointProbability?model=query&order=3';\n",
    "        \n",
    "    if len(item.split()) == 1 :\n",
    "        \n",
    "        print\"unigram\"\n",
    "        \n",
    "        myjson={\n",
    "            \n",
    "            \"queries\":[item]\n",
    "        }\n",
    "        \n",
    "        \n",
    "      #  print(url_unigram)\n",
    "    \n",
    "        if type!='query':      \n",
    "            r = requests.post(url_unigram, json=myjson , headers = headers );\n",
    "        elif type=='query':\n",
    "            r = requests.post(url_unigram_q, json=myjson , headers = headers );\n",
    "    \n",
    "        result_json = r.json()\n",
    "        print(result_json['results'][0]['probability'])\n",
    "        if(result_json['results'][0]['probability'] > cutoff):\n",
    "            print\"greater than threshold need to remove this concept\"\n",
    "            list.remove(item)\n",
    "        else:\n",
    "            print(\"lower than threshold , need to retain this concept\")\n",
    "        # use unigram\n",
    "        print(r.json());\n",
    "    elif len(item.split()) == 2:\n",
    "        \n",
    "        print\"bigram\"\n",
    "        \n",
    "        myjson={\n",
    "            \n",
    "            \"queries\":[item]\n",
    "        }\n",
    "        \n",
    "        if type!='query':\n",
    "                \n",
    "            r = requests.post(url_bigram, json=myjson , headers = headers );\n",
    "        \n",
    "        elif type=='query':\n",
    "            r = requests.post(url_bigram_q, json=myjson , headers = headers );\n",
    "        \n",
    "        result_json = r.json()\n",
    "        print(result_json['results'][0]['probability'])\n",
    "        if(result_json['results'][0]['probability'] > cutoff):\n",
    "            print\"greater than threshold need to remove this concept\"\n",
    "            list.remove(item)\n",
    "        else:\n",
    "            print(\"lower than threshold , need to retain this concept\")\n",
    "        print(r.json());\n",
    "        # use bigram\n",
    "    elif len(item.split()) == 3:\n",
    "        \n",
    "        print\"trigram\"\n",
    "        \n",
    "        myjson={\n",
    "            \n",
    "            \"queries\":[item]\n",
    "        }\n",
    "            \n",
    "        if type!='query':\n",
    "                \n",
    "            r = requests.post(url_trigram, json=myjson , headers = headers );\n",
    "        \n",
    "        elif type=='query':\n",
    "            r = requests.post(url_trigram_q, json=myjson , headers = headers );\n",
    "        \n",
    "        \n",
    "        result_json = r.json()\n",
    "        print(result_json['results'][0]['probability'])\n",
    "        if(result_json['results'][0]['probability'] > cutoff):\n",
    "            print\"greater than threshold need to remove this concept\"\n",
    "            list.remove(item)\n",
    "        else:\n",
    "            print(\"lower than threshold , need to retain this concept\")\n",
    "        \n",
    "        print(r.json());"
   ]
  },
  {
   "cell_type": "code",
   "execution_count": 42,
   "metadata": {
    "collapsed": false,
    "deletable": true,
    "editable": true
   },
   "outputs": [
    {
     "name": "stdout",
     "output_type": "stream",
     "text": [
      "1\n",
      "unigram\n",
      "-3.792\n",
      "greater than threshold need to remove this concept\n",
      "{u'results': [{u'probability': -3.792, u'words': u'program'}]}\n",
      "2\n",
      "bigram\n",
      "-9.515\n",
      "lower than threshold , need to retain this concept\n",
      "{u'results': [{u'probability': -9.515, u'words': u'piece software'}]}\n",
      "2\n",
      "bigram\n",
      "-9.033\n",
      "lower than threshold , need to retain this concept\n",
      "{u'results': [{u'probability': -9.033, u'words': u'microsoft essence'}]}\n",
      "1\n",
      "unigram\n",
      "-3.73\n",
      "greater than threshold need to remove this concept\n",
      "{u'results': [{u'probability': -3.73, u'words': u'computer'}]}\n",
      "3\n",
      "trigram\n",
      "-11.842\n",
      "lower than threshold , need to retain this concept\n",
      "{u'results': [{u'probability': -11.842, u'words': u'easy use application'}]}\n",
      "2\n",
      "bigram\n",
      "-9.228\n",
      "lower than threshold , need to retain this concept\n",
      "{u'results': [{u'probability': -9.228, u'words': u'system addition'}]}\n",
      "2\n",
      "bigram\n",
      "-10.976\n",
      "lower than threshold , need to retain this concept\n",
      "{u'results': [{u'probability': -10.976, u'words': u'everything vendor'}]}\n",
      "2\n",
      "bigram\n",
      "-9.625\n",
      "lower than threshold , need to retain this concept\n",
      "{u'results': [{u'probability': -9.625, u'words': u'bare hardware'}]}\n",
      "3\n",
      "trigram\n",
      "-10.424\n",
      "lower than threshold , need to retain this concept\n",
      "{u'results': [{u'probability': -10.424, u'words': u'operating system role'}]}\n",
      "3\n",
      "trigram\n"
     ]
    },
    {
     "ename": "ConnectionError",
     "evalue": "HTTPSConnectionPool(host='westus.api.cognitive.microsoft.com', port=443): Max retries exceeded with url: /text/weblm/v1.0/calculateJointProbability?model=query&order=3 (Caused by NewConnectionError('<requests.packages.urllib3.connection.VerifiedHTTPSConnection object at 0x7f5aab14f5d0>: Failed to establish a new connection: [Errno 110] Connection timed out',))",
     "output_type": "error",
     "traceback": [
      "\u001b[0;31m---------------------------------------------------------------------------\u001b[0m",
      "\u001b[0;31mConnectionError\u001b[0m                           Traceback (most recent call last)",
      "\u001b[0;32m<ipython-input-42-c6a07dd3f5b2>\u001b[0m in \u001b[0;36m<module>\u001b[0;34m()\u001b[0m\n\u001b[0;32m----> 1\u001b[0;31m \u001b[0msort\u001b[0m\u001b[0;34m(\u001b[0m\u001b[0mconcepts4\u001b[0m\u001b[0;34m,\u001b[0m\u001b[0;34m\"query\"\u001b[0m\u001b[0;34m)\u001b[0m\u001b[0;34m\u001b[0m\u001b[0m\n\u001b[0m",
      "\u001b[0;32m<ipython-input-41-d516b04824cf>\u001b[0m in \u001b[0;36msort\u001b[0;34m(list, type)\u001b[0m\n\u001b[1;32m     76\u001b[0m \u001b[0;34m\u001b[0m\u001b[0m\n\u001b[1;32m     77\u001b[0m         \u001b[0;32melif\u001b[0m \u001b[0mtype\u001b[0m\u001b[0;34m==\u001b[0m\u001b[0;34m'query'\u001b[0m\u001b[0;34m:\u001b[0m\u001b[0;34m\u001b[0m\u001b[0m\n\u001b[0;32m---> 78\u001b[0;31m             \u001b[0mr\u001b[0m \u001b[0;34m=\u001b[0m \u001b[0mrequests\u001b[0m\u001b[0;34m.\u001b[0m\u001b[0mpost\u001b[0m\u001b[0;34m(\u001b[0m\u001b[0murl_trigram_q\u001b[0m\u001b[0;34m,\u001b[0m \u001b[0mjson\u001b[0m\u001b[0;34m=\u001b[0m\u001b[0mmyjson\u001b[0m \u001b[0;34m,\u001b[0m \u001b[0mheaders\u001b[0m \u001b[0;34m=\u001b[0m \u001b[0mheaders\u001b[0m \u001b[0;34m)\u001b[0m\u001b[0;34m;\u001b[0m\u001b[0;34m\u001b[0m\u001b[0m\n\u001b[0m\u001b[1;32m     79\u001b[0m \u001b[0;34m\u001b[0m\u001b[0m\n\u001b[1;32m     80\u001b[0m \u001b[0;34m\u001b[0m\u001b[0m\n",
      "\u001b[0;32m/usr/local/lib/python2.7/dist-packages/requests/api.pyc\u001b[0m in \u001b[0;36mpost\u001b[0;34m(url, data, json, **kwargs)\u001b[0m\n\u001b[1;32m    108\u001b[0m     \"\"\"\n\u001b[1;32m    109\u001b[0m \u001b[0;34m\u001b[0m\u001b[0m\n\u001b[0;32m--> 110\u001b[0;31m     \u001b[0;32mreturn\u001b[0m \u001b[0mrequest\u001b[0m\u001b[0;34m(\u001b[0m\u001b[0;34m'post'\u001b[0m\u001b[0;34m,\u001b[0m \u001b[0murl\u001b[0m\u001b[0;34m,\u001b[0m \u001b[0mdata\u001b[0m\u001b[0;34m=\u001b[0m\u001b[0mdata\u001b[0m\u001b[0;34m,\u001b[0m \u001b[0mjson\u001b[0m\u001b[0;34m=\u001b[0m\u001b[0mjson\u001b[0m\u001b[0;34m,\u001b[0m \u001b[0;34m**\u001b[0m\u001b[0mkwargs\u001b[0m\u001b[0;34m)\u001b[0m\u001b[0;34m\u001b[0m\u001b[0m\n\u001b[0m\u001b[1;32m    111\u001b[0m \u001b[0;34m\u001b[0m\u001b[0m\n\u001b[1;32m    112\u001b[0m \u001b[0;34m\u001b[0m\u001b[0m\n",
      "\u001b[0;32m/usr/local/lib/python2.7/dist-packages/requests/api.pyc\u001b[0m in \u001b[0;36mrequest\u001b[0;34m(method, url, **kwargs)\u001b[0m\n\u001b[1;32m     54\u001b[0m     \u001b[0;31m# cases, and look like a memory leak in others.\u001b[0m\u001b[0;34m\u001b[0m\u001b[0;34m\u001b[0m\u001b[0m\n\u001b[1;32m     55\u001b[0m     \u001b[0;32mwith\u001b[0m \u001b[0msessions\u001b[0m\u001b[0;34m.\u001b[0m\u001b[0mSession\u001b[0m\u001b[0;34m(\u001b[0m\u001b[0;34m)\u001b[0m \u001b[0;32mas\u001b[0m \u001b[0msession\u001b[0m\u001b[0;34m:\u001b[0m\u001b[0;34m\u001b[0m\u001b[0m\n\u001b[0;32m---> 56\u001b[0;31m         \u001b[0;32mreturn\u001b[0m \u001b[0msession\u001b[0m\u001b[0;34m.\u001b[0m\u001b[0mrequest\u001b[0m\u001b[0;34m(\u001b[0m\u001b[0mmethod\u001b[0m\u001b[0;34m=\u001b[0m\u001b[0mmethod\u001b[0m\u001b[0;34m,\u001b[0m \u001b[0murl\u001b[0m\u001b[0;34m=\u001b[0m\u001b[0murl\u001b[0m\u001b[0;34m,\u001b[0m \u001b[0;34m**\u001b[0m\u001b[0mkwargs\u001b[0m\u001b[0;34m)\u001b[0m\u001b[0;34m\u001b[0m\u001b[0m\n\u001b[0m\u001b[1;32m     57\u001b[0m \u001b[0;34m\u001b[0m\u001b[0m\n\u001b[1;32m     58\u001b[0m \u001b[0;34m\u001b[0m\u001b[0m\n",
      "\u001b[0;32m/usr/local/lib/python2.7/dist-packages/requests/sessions.pyc\u001b[0m in \u001b[0;36mrequest\u001b[0;34m(self, method, url, params, data, headers, cookies, files, auth, timeout, allow_redirects, proxies, hooks, stream, verify, cert, json)\u001b[0m\n\u001b[1;32m    486\u001b[0m         }\n\u001b[1;32m    487\u001b[0m         \u001b[0msend_kwargs\u001b[0m\u001b[0;34m.\u001b[0m\u001b[0mupdate\u001b[0m\u001b[0;34m(\u001b[0m\u001b[0msettings\u001b[0m\u001b[0;34m)\u001b[0m\u001b[0;34m\u001b[0m\u001b[0m\n\u001b[0;32m--> 488\u001b[0;31m         \u001b[0mresp\u001b[0m \u001b[0;34m=\u001b[0m \u001b[0mself\u001b[0m\u001b[0;34m.\u001b[0m\u001b[0msend\u001b[0m\u001b[0;34m(\u001b[0m\u001b[0mprep\u001b[0m\u001b[0;34m,\u001b[0m \u001b[0;34m**\u001b[0m\u001b[0msend_kwargs\u001b[0m\u001b[0;34m)\u001b[0m\u001b[0;34m\u001b[0m\u001b[0m\n\u001b[0m\u001b[1;32m    489\u001b[0m \u001b[0;34m\u001b[0m\u001b[0m\n\u001b[1;32m    490\u001b[0m         \u001b[0;32mreturn\u001b[0m \u001b[0mresp\u001b[0m\u001b[0;34m\u001b[0m\u001b[0m\n",
      "\u001b[0;32m/usr/local/lib/python2.7/dist-packages/requests/sessions.pyc\u001b[0m in \u001b[0;36msend\u001b[0;34m(self, request, **kwargs)\u001b[0m\n\u001b[1;32m    607\u001b[0m \u001b[0;34m\u001b[0m\u001b[0m\n\u001b[1;32m    608\u001b[0m         \u001b[0;31m# Send the request\u001b[0m\u001b[0;34m\u001b[0m\u001b[0;34m\u001b[0m\u001b[0m\n\u001b[0;32m--> 609\u001b[0;31m         \u001b[0mr\u001b[0m \u001b[0;34m=\u001b[0m \u001b[0madapter\u001b[0m\u001b[0;34m.\u001b[0m\u001b[0msend\u001b[0m\u001b[0;34m(\u001b[0m\u001b[0mrequest\u001b[0m\u001b[0;34m,\u001b[0m \u001b[0;34m**\u001b[0m\u001b[0mkwargs\u001b[0m\u001b[0;34m)\u001b[0m\u001b[0;34m\u001b[0m\u001b[0m\n\u001b[0m\u001b[1;32m    610\u001b[0m \u001b[0;34m\u001b[0m\u001b[0m\n\u001b[1;32m    611\u001b[0m         \u001b[0;31m# Total elapsed time of the request (approximately)\u001b[0m\u001b[0;34m\u001b[0m\u001b[0;34m\u001b[0m\u001b[0m\n",
      "\u001b[0;32m/usr/local/lib/python2.7/dist-packages/requests/adapters.pyc\u001b[0m in \u001b[0;36msend\u001b[0;34m(self, request, stream, timeout, verify, cert, proxies)\u001b[0m\n\u001b[1;32m    485\u001b[0m                 \u001b[0;32mraise\u001b[0m \u001b[0mProxyError\u001b[0m\u001b[0;34m(\u001b[0m\u001b[0me\u001b[0m\u001b[0;34m,\u001b[0m \u001b[0mrequest\u001b[0m\u001b[0;34m=\u001b[0m\u001b[0mrequest\u001b[0m\u001b[0;34m)\u001b[0m\u001b[0;34m\u001b[0m\u001b[0m\n\u001b[1;32m    486\u001b[0m \u001b[0;34m\u001b[0m\u001b[0m\n\u001b[0;32m--> 487\u001b[0;31m             \u001b[0;32mraise\u001b[0m \u001b[0mConnectionError\u001b[0m\u001b[0;34m(\u001b[0m\u001b[0me\u001b[0m\u001b[0;34m,\u001b[0m \u001b[0mrequest\u001b[0m\u001b[0;34m=\u001b[0m\u001b[0mrequest\u001b[0m\u001b[0;34m)\u001b[0m\u001b[0;34m\u001b[0m\u001b[0m\n\u001b[0m\u001b[1;32m    488\u001b[0m \u001b[0;34m\u001b[0m\u001b[0m\n\u001b[1;32m    489\u001b[0m         \u001b[0;32mexcept\u001b[0m \u001b[0mClosedPoolError\u001b[0m \u001b[0;32mas\u001b[0m \u001b[0me\u001b[0m\u001b[0;34m:\u001b[0m\u001b[0;34m\u001b[0m\u001b[0m\n",
      "\u001b[0;31mConnectionError\u001b[0m: HTTPSConnectionPool(host='westus.api.cognitive.microsoft.com', port=443): Max retries exceeded with url: /text/weblm/v1.0/calculateJointProbability?model=query&order=3 (Caused by NewConnectionError('<requests.packages.urllib3.connection.VerifiedHTTPSConnection object at 0x7f5aab14f5d0>: Failed to establish a new connection: [Errno 110] Connection timed out',))"
     ]
    }
   ],
   "source": [
    "sort(concepts4,\"query\")"
   ]
  },
  {
   "cell_type": "code",
   "execution_count": null,
   "metadata": {
    "collapsed": false,
    "deletable": true,
    "editable": true
   },
   "outputs": [],
   "source": [
    "concepts4"
   ]
  },
  {
   "cell_type": "code",
   "execution_count": 52,
   "metadata": {
    "collapsed": true,
    "deletable": true,
    "editable": true
   },
   "outputs": [],
   "source": [
    "# notes : to further refine make use of glossary at the end of textbook and / or web dictionary and / or frequency of these concepts in other sections and introduce a cutoff"
   ]
  },
  {
   "cell_type": "code",
   "execution_count": 85,
   "metadata": {
    "collapsed": false,
    "deletable": true,
    "editable": true
   },
   "outputs": [
    {
     "name": "stdout",
     "output_type": "stream",
     "text": [
      "1\n",
      "unigram\n",
      "-7.044\n",
      "lower than threshold , need to retain this concept\n",
      "{u'results': [{u'probability': -7.044, u'words': u'kilobyte'}]}\n",
      "2\n",
      "bigram\n",
      "-7.643\n",
      "lower than threshold , need to retain this concept\n",
      "{u'results': [{u'probability': -7.643, u'words': u'fundamental goal'}]}\n",
      "1\n",
      "unigram\n",
      "-4.316\n",
      "greater than threshold need to remove this concept\n",
      "{u'results': [{u'probability': -4.316, u'words': u'goal'}]}\n",
      "3\n",
      "trigram\n",
      "-10.228\n",
      "lower than threshold , need to retain this concept\n",
      "{u'results': [{u'probability': -10.228, u'words': u'usable computing system'}]}\n",
      "2\n",
      "bigram\n"
     ]
    },
    {
     "ename": "KeyboardInterrupt",
     "evalue": "",
     "output_type": "error",
     "traceback": [
      "\u001b[0;31m---------------------------------------------------------------------------\u001b[0m",
      "\u001b[0;31mKeyboardInterrupt\u001b[0m                         Traceback (most recent call last)",
      "\u001b[0;32m<ipython-input-85-93f6f58d2968>\u001b[0m in \u001b[0;36m<module>\u001b[0;34m()\u001b[0m\n\u001b[0;32m----> 1\u001b[0;31m \u001b[0msort\u001b[0m\u001b[0;34m(\u001b[0m\u001b[0mconcepts4\u001b[0m\u001b[0;34m,\u001b[0m \u001b[0mtype\u001b[0m \u001b[0;34m=\u001b[0m \u001b[0;34m'test'\u001b[0m\u001b[0;34m)\u001b[0m\u001b[0;34m\u001b[0m\u001b[0m\n\u001b[0m",
      "\u001b[0;32m<ipython-input-82-d516b04824cf>\u001b[0m in \u001b[0;36msort\u001b[0;34m(list, type)\u001b[0m\n\u001b[1;32m     48\u001b[0m         \u001b[0;32mif\u001b[0m \u001b[0mtype\u001b[0m\u001b[0;34m!=\u001b[0m\u001b[0;34m'query'\u001b[0m\u001b[0;34m:\u001b[0m\u001b[0;34m\u001b[0m\u001b[0m\n\u001b[1;32m     49\u001b[0m \u001b[0;34m\u001b[0m\u001b[0m\n\u001b[0;32m---> 50\u001b[0;31m             \u001b[0mr\u001b[0m \u001b[0;34m=\u001b[0m \u001b[0mrequests\u001b[0m\u001b[0;34m.\u001b[0m\u001b[0mpost\u001b[0m\u001b[0;34m(\u001b[0m\u001b[0murl_bigram\u001b[0m\u001b[0;34m,\u001b[0m \u001b[0mjson\u001b[0m\u001b[0;34m=\u001b[0m\u001b[0mmyjson\u001b[0m \u001b[0;34m,\u001b[0m \u001b[0mheaders\u001b[0m \u001b[0;34m=\u001b[0m \u001b[0mheaders\u001b[0m \u001b[0;34m)\u001b[0m\u001b[0;34m;\u001b[0m\u001b[0;34m\u001b[0m\u001b[0m\n\u001b[0m\u001b[1;32m     51\u001b[0m \u001b[0;34m\u001b[0m\u001b[0m\n\u001b[1;32m     52\u001b[0m         \u001b[0;32melif\u001b[0m \u001b[0mtype\u001b[0m\u001b[0;34m==\u001b[0m\u001b[0;34m'query'\u001b[0m\u001b[0;34m:\u001b[0m\u001b[0;34m\u001b[0m\u001b[0m\n",
      "\u001b[0;32m/usr/local/lib/python2.7/dist-packages/requests/api.pyc\u001b[0m in \u001b[0;36mpost\u001b[0;34m(url, data, json, **kwargs)\u001b[0m\n\u001b[1;32m    108\u001b[0m     \"\"\"\n\u001b[1;32m    109\u001b[0m \u001b[0;34m\u001b[0m\u001b[0m\n\u001b[0;32m--> 110\u001b[0;31m     \u001b[0;32mreturn\u001b[0m \u001b[0mrequest\u001b[0m\u001b[0;34m(\u001b[0m\u001b[0;34m'post'\u001b[0m\u001b[0;34m,\u001b[0m \u001b[0murl\u001b[0m\u001b[0;34m,\u001b[0m \u001b[0mdata\u001b[0m\u001b[0;34m=\u001b[0m\u001b[0mdata\u001b[0m\u001b[0;34m,\u001b[0m \u001b[0mjson\u001b[0m\u001b[0;34m=\u001b[0m\u001b[0mjson\u001b[0m\u001b[0;34m,\u001b[0m \u001b[0;34m**\u001b[0m\u001b[0mkwargs\u001b[0m\u001b[0;34m)\u001b[0m\u001b[0;34m\u001b[0m\u001b[0m\n\u001b[0m\u001b[1;32m    111\u001b[0m \u001b[0;34m\u001b[0m\u001b[0m\n\u001b[1;32m    112\u001b[0m \u001b[0;34m\u001b[0m\u001b[0m\n",
      "\u001b[0;32m/usr/local/lib/python2.7/dist-packages/requests/api.pyc\u001b[0m in \u001b[0;36mrequest\u001b[0;34m(method, url, **kwargs)\u001b[0m\n\u001b[1;32m     54\u001b[0m     \u001b[0;31m# cases, and look like a memory leak in others.\u001b[0m\u001b[0;34m\u001b[0m\u001b[0;34m\u001b[0m\u001b[0m\n\u001b[1;32m     55\u001b[0m     \u001b[0;32mwith\u001b[0m \u001b[0msessions\u001b[0m\u001b[0;34m.\u001b[0m\u001b[0mSession\u001b[0m\u001b[0;34m(\u001b[0m\u001b[0;34m)\u001b[0m \u001b[0;32mas\u001b[0m \u001b[0msession\u001b[0m\u001b[0;34m:\u001b[0m\u001b[0;34m\u001b[0m\u001b[0m\n\u001b[0;32m---> 56\u001b[0;31m         \u001b[0;32mreturn\u001b[0m \u001b[0msession\u001b[0m\u001b[0;34m.\u001b[0m\u001b[0mrequest\u001b[0m\u001b[0;34m(\u001b[0m\u001b[0mmethod\u001b[0m\u001b[0;34m=\u001b[0m\u001b[0mmethod\u001b[0m\u001b[0;34m,\u001b[0m \u001b[0murl\u001b[0m\u001b[0;34m=\u001b[0m\u001b[0murl\u001b[0m\u001b[0;34m,\u001b[0m \u001b[0;34m**\u001b[0m\u001b[0mkwargs\u001b[0m\u001b[0;34m)\u001b[0m\u001b[0;34m\u001b[0m\u001b[0m\n\u001b[0m\u001b[1;32m     57\u001b[0m \u001b[0;34m\u001b[0m\u001b[0m\n\u001b[1;32m     58\u001b[0m \u001b[0;34m\u001b[0m\u001b[0m\n",
      "\u001b[0;32m/usr/local/lib/python2.7/dist-packages/requests/sessions.pyc\u001b[0m in \u001b[0;36mrequest\u001b[0;34m(self, method, url, params, data, headers, cookies, files, auth, timeout, allow_redirects, proxies, hooks, stream, verify, cert, json)\u001b[0m\n\u001b[1;32m    486\u001b[0m         }\n\u001b[1;32m    487\u001b[0m         \u001b[0msend_kwargs\u001b[0m\u001b[0;34m.\u001b[0m\u001b[0mupdate\u001b[0m\u001b[0;34m(\u001b[0m\u001b[0msettings\u001b[0m\u001b[0;34m)\u001b[0m\u001b[0;34m\u001b[0m\u001b[0m\n\u001b[0;32m--> 488\u001b[0;31m         \u001b[0mresp\u001b[0m \u001b[0;34m=\u001b[0m \u001b[0mself\u001b[0m\u001b[0;34m.\u001b[0m\u001b[0msend\u001b[0m\u001b[0;34m(\u001b[0m\u001b[0mprep\u001b[0m\u001b[0;34m,\u001b[0m \u001b[0;34m**\u001b[0m\u001b[0msend_kwargs\u001b[0m\u001b[0;34m)\u001b[0m\u001b[0;34m\u001b[0m\u001b[0m\n\u001b[0m\u001b[1;32m    489\u001b[0m \u001b[0;34m\u001b[0m\u001b[0m\n\u001b[1;32m    490\u001b[0m         \u001b[0;32mreturn\u001b[0m \u001b[0mresp\u001b[0m\u001b[0;34m\u001b[0m\u001b[0m\n",
      "\u001b[0;32m/usr/local/lib/python2.7/dist-packages/requests/sessions.pyc\u001b[0m in \u001b[0;36msend\u001b[0;34m(self, request, **kwargs)\u001b[0m\n\u001b[1;32m    607\u001b[0m \u001b[0;34m\u001b[0m\u001b[0m\n\u001b[1;32m    608\u001b[0m         \u001b[0;31m# Send the request\u001b[0m\u001b[0;34m\u001b[0m\u001b[0;34m\u001b[0m\u001b[0m\n\u001b[0;32m--> 609\u001b[0;31m         \u001b[0mr\u001b[0m \u001b[0;34m=\u001b[0m \u001b[0madapter\u001b[0m\u001b[0;34m.\u001b[0m\u001b[0msend\u001b[0m\u001b[0;34m(\u001b[0m\u001b[0mrequest\u001b[0m\u001b[0;34m,\u001b[0m \u001b[0;34m**\u001b[0m\u001b[0mkwargs\u001b[0m\u001b[0;34m)\u001b[0m\u001b[0;34m\u001b[0m\u001b[0m\n\u001b[0m\u001b[1;32m    610\u001b[0m \u001b[0;34m\u001b[0m\u001b[0m\n\u001b[1;32m    611\u001b[0m         \u001b[0;31m# Total elapsed time of the request (approximately)\u001b[0m\u001b[0;34m\u001b[0m\u001b[0;34m\u001b[0m\u001b[0m\n",
      "\u001b[0;32m/usr/local/lib/python2.7/dist-packages/requests/adapters.pyc\u001b[0m in \u001b[0;36msend\u001b[0;34m(self, request, stream, timeout, verify, cert, proxies)\u001b[0m\n\u001b[1;32m    421\u001b[0m                     \u001b[0mdecode_content\u001b[0m\u001b[0;34m=\u001b[0m\u001b[0mFalse\u001b[0m\u001b[0;34m,\u001b[0m\u001b[0;34m\u001b[0m\u001b[0m\n\u001b[1;32m    422\u001b[0m                     \u001b[0mretries\u001b[0m\u001b[0;34m=\u001b[0m\u001b[0mself\u001b[0m\u001b[0;34m.\u001b[0m\u001b[0mmax_retries\u001b[0m\u001b[0;34m,\u001b[0m\u001b[0;34m\u001b[0m\u001b[0m\n\u001b[0;32m--> 423\u001b[0;31m                     \u001b[0mtimeout\u001b[0m\u001b[0;34m=\u001b[0m\u001b[0mtimeout\u001b[0m\u001b[0;34m\u001b[0m\u001b[0m\n\u001b[0m\u001b[1;32m    424\u001b[0m                 )\n\u001b[1;32m    425\u001b[0m \u001b[0;34m\u001b[0m\u001b[0m\n",
      "\u001b[0;32m/usr/local/lib/python2.7/dist-packages/requests/packages/urllib3/connectionpool.pyc\u001b[0m in \u001b[0;36murlopen\u001b[0;34m(self, method, url, body, headers, retries, redirect, assert_same_host, timeout, pool_timeout, release_conn, chunked, body_pos, **response_kw)\u001b[0m\n\u001b[1;32m    598\u001b[0m                                                   \u001b[0mtimeout\u001b[0m\u001b[0;34m=\u001b[0m\u001b[0mtimeout_obj\u001b[0m\u001b[0;34m,\u001b[0m\u001b[0;34m\u001b[0m\u001b[0m\n\u001b[1;32m    599\u001b[0m                                                   \u001b[0mbody\u001b[0m\u001b[0;34m=\u001b[0m\u001b[0mbody\u001b[0m\u001b[0;34m,\u001b[0m \u001b[0mheaders\u001b[0m\u001b[0;34m=\u001b[0m\u001b[0mheaders\u001b[0m\u001b[0;34m,\u001b[0m\u001b[0;34m\u001b[0m\u001b[0m\n\u001b[0;32m--> 600\u001b[0;31m                                                   chunked=chunked)\n\u001b[0m\u001b[1;32m    601\u001b[0m \u001b[0;34m\u001b[0m\u001b[0m\n\u001b[1;32m    602\u001b[0m             \u001b[0;31m# If we're going to release the connection in ``finally:``, then\u001b[0m\u001b[0;34m\u001b[0m\u001b[0;34m\u001b[0m\u001b[0m\n",
      "\u001b[0;32m/usr/local/lib/python2.7/dist-packages/requests/packages/urllib3/connectionpool.pyc\u001b[0m in \u001b[0;36m_make_request\u001b[0;34m(self, conn, method, url, timeout, chunked, **httplib_request_kw)\u001b[0m\n\u001b[1;32m    343\u001b[0m         \u001b[0;31m# Trigger any extra validation we need to do.\u001b[0m\u001b[0;34m\u001b[0m\u001b[0;34m\u001b[0m\u001b[0m\n\u001b[1;32m    344\u001b[0m         \u001b[0;32mtry\u001b[0m\u001b[0;34m:\u001b[0m\u001b[0;34m\u001b[0m\u001b[0m\n\u001b[0;32m--> 345\u001b[0;31m             \u001b[0mself\u001b[0m\u001b[0;34m.\u001b[0m\u001b[0m_validate_conn\u001b[0m\u001b[0;34m(\u001b[0m\u001b[0mconn\u001b[0m\u001b[0;34m)\u001b[0m\u001b[0;34m\u001b[0m\u001b[0m\n\u001b[0m\u001b[1;32m    346\u001b[0m         \u001b[0;32mexcept\u001b[0m \u001b[0;34m(\u001b[0m\u001b[0mSocketTimeout\u001b[0m\u001b[0;34m,\u001b[0m \u001b[0mBaseSSLError\u001b[0m\u001b[0;34m)\u001b[0m \u001b[0;32mas\u001b[0m \u001b[0me\u001b[0m\u001b[0;34m:\u001b[0m\u001b[0;34m\u001b[0m\u001b[0m\n\u001b[1;32m    347\u001b[0m             \u001b[0;31m# Py2 raises this as a BaseSSLError, Py3 raises it as socket timeout.\u001b[0m\u001b[0;34m\u001b[0m\u001b[0;34m\u001b[0m\u001b[0m\n",
      "\u001b[0;32m/usr/local/lib/python2.7/dist-packages/requests/packages/urllib3/connectionpool.pyc\u001b[0m in \u001b[0;36m_validate_conn\u001b[0;34m(self, conn)\u001b[0m\n\u001b[1;32m    842\u001b[0m         \u001b[0;31m# Force connect early to allow us to validate the connection.\u001b[0m\u001b[0;34m\u001b[0m\u001b[0;34m\u001b[0m\u001b[0m\n\u001b[1;32m    843\u001b[0m         \u001b[0;32mif\u001b[0m \u001b[0;32mnot\u001b[0m \u001b[0mgetattr\u001b[0m\u001b[0;34m(\u001b[0m\u001b[0mconn\u001b[0m\u001b[0;34m,\u001b[0m \u001b[0;34m'sock'\u001b[0m\u001b[0;34m,\u001b[0m \u001b[0mNone\u001b[0m\u001b[0;34m)\u001b[0m\u001b[0;34m:\u001b[0m  \u001b[0;31m# AppEngine might not have  `.sock`\u001b[0m\u001b[0;34m\u001b[0m\u001b[0m\n\u001b[0;32m--> 844\u001b[0;31m             \u001b[0mconn\u001b[0m\u001b[0;34m.\u001b[0m\u001b[0mconnect\u001b[0m\u001b[0;34m(\u001b[0m\u001b[0;34m)\u001b[0m\u001b[0;34m\u001b[0m\u001b[0m\n\u001b[0m\u001b[1;32m    845\u001b[0m \u001b[0;34m\u001b[0m\u001b[0m\n\u001b[1;32m    846\u001b[0m         \u001b[0;32mif\u001b[0m \u001b[0;32mnot\u001b[0m \u001b[0mconn\u001b[0m\u001b[0;34m.\u001b[0m\u001b[0mis_verified\u001b[0m\u001b[0;34m:\u001b[0m\u001b[0;34m\u001b[0m\u001b[0m\n",
      "\u001b[0;32m/usr/local/lib/python2.7/dist-packages/requests/packages/urllib3/connection.pyc\u001b[0m in \u001b[0;36mconnect\u001b[0;34m(self)\u001b[0m\n\u001b[1;32m    282\u001b[0m     \u001b[0;32mdef\u001b[0m \u001b[0mconnect\u001b[0m\u001b[0;34m(\u001b[0m\u001b[0mself\u001b[0m\u001b[0;34m)\u001b[0m\u001b[0;34m:\u001b[0m\u001b[0;34m\u001b[0m\u001b[0m\n\u001b[1;32m    283\u001b[0m         \u001b[0;31m# Add certificate verification\u001b[0m\u001b[0;34m\u001b[0m\u001b[0;34m\u001b[0m\u001b[0m\n\u001b[0;32m--> 284\u001b[0;31m         \u001b[0mconn\u001b[0m \u001b[0;34m=\u001b[0m \u001b[0mself\u001b[0m\u001b[0;34m.\u001b[0m\u001b[0m_new_conn\u001b[0m\u001b[0;34m(\u001b[0m\u001b[0;34m)\u001b[0m\u001b[0;34m\u001b[0m\u001b[0m\n\u001b[0m\u001b[1;32m    285\u001b[0m \u001b[0;34m\u001b[0m\u001b[0m\n\u001b[1;32m    286\u001b[0m         \u001b[0mhostname\u001b[0m \u001b[0;34m=\u001b[0m \u001b[0mself\u001b[0m\u001b[0;34m.\u001b[0m\u001b[0mhost\u001b[0m\u001b[0;34m\u001b[0m\u001b[0m\n",
      "\u001b[0;32m/usr/local/lib/python2.7/dist-packages/requests/packages/urllib3/connection.pyc\u001b[0m in \u001b[0;36m_new_conn\u001b[0;34m(self)\u001b[0m\n\u001b[1;32m    139\u001b[0m         \u001b[0;32mtry\u001b[0m\u001b[0;34m:\u001b[0m\u001b[0;34m\u001b[0m\u001b[0m\n\u001b[1;32m    140\u001b[0m             conn = connection.create_connection(\n\u001b[0;32m--> 141\u001b[0;31m                 (self.host, self.port), self.timeout, **extra_kw)\n\u001b[0m\u001b[1;32m    142\u001b[0m \u001b[0;34m\u001b[0m\u001b[0m\n\u001b[1;32m    143\u001b[0m         \u001b[0;32mexcept\u001b[0m \u001b[0mSocketTimeout\u001b[0m \u001b[0;32mas\u001b[0m \u001b[0me\u001b[0m\u001b[0;34m:\u001b[0m\u001b[0;34m\u001b[0m\u001b[0m\n",
      "\u001b[0;32m/usr/local/lib/python2.7/dist-packages/requests/packages/urllib3/util/connection.pyc\u001b[0m in \u001b[0;36mcreate_connection\u001b[0;34m(address, timeout, source_address, socket_options)\u001b[0m\n\u001b[1;32m     71\u001b[0m             \u001b[0;32mif\u001b[0m \u001b[0msource_address\u001b[0m\u001b[0;34m:\u001b[0m\u001b[0;34m\u001b[0m\u001b[0m\n\u001b[1;32m     72\u001b[0m                 \u001b[0msock\u001b[0m\u001b[0;34m.\u001b[0m\u001b[0mbind\u001b[0m\u001b[0;34m(\u001b[0m\u001b[0msource_address\u001b[0m\u001b[0;34m)\u001b[0m\u001b[0;34m\u001b[0m\u001b[0m\n\u001b[0;32m---> 73\u001b[0;31m             \u001b[0msock\u001b[0m\u001b[0;34m.\u001b[0m\u001b[0mconnect\u001b[0m\u001b[0;34m(\u001b[0m\u001b[0msa\u001b[0m\u001b[0;34m)\u001b[0m\u001b[0;34m\u001b[0m\u001b[0m\n\u001b[0m\u001b[1;32m     74\u001b[0m             \u001b[0;32mreturn\u001b[0m \u001b[0msock\u001b[0m\u001b[0;34m\u001b[0m\u001b[0m\n\u001b[1;32m     75\u001b[0m \u001b[0;34m\u001b[0m\u001b[0m\n",
      "\u001b[0;32m/usr/lib/python2.7/socket.pyc\u001b[0m in \u001b[0;36mmeth\u001b[0;34m(name, self, *args)\u001b[0m\n\u001b[1;32m    226\u001b[0m \u001b[0;34m\u001b[0m\u001b[0m\n\u001b[1;32m    227\u001b[0m \u001b[0;32mdef\u001b[0m \u001b[0mmeth\u001b[0m\u001b[0;34m(\u001b[0m\u001b[0mname\u001b[0m\u001b[0;34m,\u001b[0m\u001b[0mself\u001b[0m\u001b[0;34m,\u001b[0m\u001b[0;34m*\u001b[0m\u001b[0margs\u001b[0m\u001b[0;34m)\u001b[0m\u001b[0;34m:\u001b[0m\u001b[0;34m\u001b[0m\u001b[0m\n\u001b[0;32m--> 228\u001b[0;31m     \u001b[0;32mreturn\u001b[0m \u001b[0mgetattr\u001b[0m\u001b[0;34m(\u001b[0m\u001b[0mself\u001b[0m\u001b[0;34m.\u001b[0m\u001b[0m_sock\u001b[0m\u001b[0;34m,\u001b[0m\u001b[0mname\u001b[0m\u001b[0;34m)\u001b[0m\u001b[0;34m(\u001b[0m\u001b[0;34m*\u001b[0m\u001b[0margs\u001b[0m\u001b[0;34m)\u001b[0m\u001b[0;34m\u001b[0m\u001b[0m\n\u001b[0m\u001b[1;32m    229\u001b[0m \u001b[0;34m\u001b[0m\u001b[0m\n\u001b[1;32m    230\u001b[0m \u001b[0;32mfor\u001b[0m \u001b[0m_m\u001b[0m \u001b[0;32min\u001b[0m \u001b[0m_socketmethods\u001b[0m\u001b[0;34m:\u001b[0m\u001b[0;34m\u001b[0m\u001b[0m\n",
      "\u001b[0;31mKeyboardInterrupt\u001b[0m: "
     ]
    }
   ],
   "source": [
    "sort(concepts4, type = 'test')"
   ]
  },
  {
   "cell_type": "code",
   "execution_count": 31,
   "metadata": {
    "collapsed": false,
    "deletable": true,
    "editable": true
   },
   "outputs": [
    {
     "data": {
      "text/plain": [
       "[u'user view',\n",
       " u'user intervention',\n",
       " u'individual usability',\n",
       " u'information',\n",
       " u'monitor',\n",
       " u'system',\n",
       " u'print',\n",
       " u'same computer',\n",
       " u'individual user',\n",
       " u'servers\\u2014file',\n",
       " u'various hardware',\n",
       " u'resource utilization\\u2014',\n",
       " u'fair share',\n",
       " u'operating system',\n",
       " u'minicomputer',\n",
       " u'work',\n",
       " u'single user experience',\n",
       " u'system unit',\n",
       " u'resource utilization']"
      ]
     },
     "execution_count": 31,
     "metadata": {},
     "output_type": "execute_result"
    }
   ],
   "source": [
    "concepts4"
   ]
  },
  {
   "cell_type": "code",
   "execution_count": 32,
   "metadata": {
    "collapsed": false,
    "deletable": true,
    "editable": true
   },
   "outputs": [],
   "source": [
    "concepts6=[]\n",
    "for x in concepts4:\n",
    "    concepts6.append(\" \".join(x.split()))\n",
    "    # this removed duplicate spaces"
   ]
  },
  {
   "cell_type": "code",
   "execution_count": 33,
   "metadata": {
    "collapsed": false,
    "deletable": true,
    "editable": true
   },
   "outputs": [
    {
     "data": {
      "text/plain": [
       "[u'user view',\n",
       " u'user intervention',\n",
       " u'individual usability',\n",
       " u'information',\n",
       " u'monitor',\n",
       " u'system',\n",
       " u'print',\n",
       " u'same computer',\n",
       " u'individual user',\n",
       " u'servers\\u2014file',\n",
       " u'various hardware',\n",
       " u'resource utilization\\u2014',\n",
       " u'fair share',\n",
       " u'operating system',\n",
       " u'minicomputer',\n",
       " u'work',\n",
       " u'single user experience',\n",
       " u'system unit',\n",
       " u'resource utilization']"
      ]
     },
     "execution_count": 33,
     "metadata": {},
     "output_type": "execute_result"
    }
   ],
   "source": [
    "concepts6"
   ]
  },
  {
   "cell_type": "code",
   "execution_count": null,
   "metadata": {
    "collapsed": true,
    "deletable": true,
    "editable": true
   },
   "outputs": [],
   "source": []
  }
 ],
 "metadata": {
  "kernelspec": {
   "display_name": "Python 2",
   "language": "python",
   "name": "python2"
  },
  "language_info": {
   "codemirror_mode": {
    "name": "ipython",
    "version": 2
   },
   "file_extension": ".py",
   "mimetype": "text/x-python",
   "name": "python",
   "nbconvert_exporter": "python",
   "pygments_lexer": "ipython2",
   "version": "2.7.12"
  }
 },
 "nbformat": 4,
 "nbformat_minor": 2
}
